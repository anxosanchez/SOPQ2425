{
 "cells": [
  {
   "cell_type": "code",
   "execution_count": 24,
   "id": "72b0b466-878d-4240-ac16-0aaa2aa91ab5",
   "metadata": {},
   "outputs": [],
   "source": [
    "import numpy as np\n",
    "\n",
    "x = np.linspace(0, 2*np.pi, 100)\n",
    "\n",
    "f = lambda x: np.sin(x)"
   ]
  },
  {
   "cell_type": "code",
   "execution_count": 25,
   "id": "06268d35-382d-442c-85e5-7fed8bbeeda4",
   "metadata": {},
   "outputs": [],
   "source": [
    "def my_num_diff(a, b, n, option='central', x_range=(-1, 1), num_points=1000):\n",
    "    # Create an array of x values within the specified range\n",
    "    x = np.linspace(x_range[0], x_range[1], num_points)\n",
    " \n",
    "    # Calculate the step size for differentiation\n",
    "    h = (x_range[1] - x_range[0]) / (num_points - 1)\n",
    "    \n",
    "    # Initialize an array to store the differentiated values\n",
    "    dy = np.zeros_like(x)\n",
    "    \n",
    "    for i in range(num_points):\n",
    "        x_val = x[i]\n",
    "        \n",
    "        # Calculate the difference for the specified option\n",
    "        if option == 'forward':\n",
    "            if n == 0:\n",
    "                dy[i] = a(x_val) - b(x_val)\n",
    "            else:\n",
    "                dy[i] = (a(x_val + h) - b(x_val + h) - a(x_val) + b(x_val)) / (h ** n)\n",
    "        elif option == 'backward':\n",
    "            if n == 0:\n",
    "                dy[i] = a(x_val) - b(x_val)\n",
    "            else:\n",
    "                dy[i] = (a(x_val) - b(x_val) - a(x_val - h) + b(x_val - h)) / (h ** n)\n",
    "        elif option == 'central':\n",
    "            if n == 0:\n",
    "                dy[i] = a(x_val) - b(x_val)\n",
    "            else:\n",
    "                dy[i] = (a(x_val + h) - 2 * a(x_val) + a(x_val - h) - b(x_val + h) + 2 * b(x_val) - b(x_val - h)) / (h ** n)\n",
    "        else:\n",
    "            raise ValueError(\"Invalid option. Use 'forward', 'backward', or 'central'.\")\n",
    "\n",
    "    return [dy, x]"
   ]
  },
  {
   "cell_type": "code",
   "execution_count": 26,
   "id": "0d963160-b12e-41f9-9267-3a4398e9ce53",
   "metadata": {},
   "outputs": [
    {
     "ename": "UFuncTypeError",
     "evalue": "ufunc 'multiply' did not contain a loop with signature matching types (dtype('<U1'), dtype('float64')) -> None",
     "output_type": "error",
     "traceback": [
      "\u001b[1;31m---------------------------------------------------------------------------\u001b[0m",
      "\u001b[1;31mUFuncTypeError\u001b[0m                            Traceback (most recent call last)",
      "Cell \u001b[1;32mIn[26], line 1\u001b[0m\n\u001b[1;32m----> 1\u001b[0m [dyf, Xf] \u001b[38;5;241m=\u001b[39m \u001b[43mmy_num_diff\u001b[49m\u001b[43m(\u001b[49m\u001b[43mf\u001b[49m\u001b[43m,\u001b[49m\u001b[43m \u001b[49m\u001b[38;5;241;43m0\u001b[39;49m\u001b[43m,\u001b[49m\u001b[43m \u001b[49m\u001b[38;5;241;43m2\u001b[39;49m\u001b[38;5;241;43m*\u001b[39;49m\u001b[43mnp\u001b[49m\u001b[38;5;241;43m.\u001b[39;49m\u001b[43mpi\u001b[49m\u001b[43m,\u001b[49m\u001b[43m \u001b[49m\u001b[38;5;241;43m10\u001b[39;49m\u001b[43m,\u001b[49m\u001b[43m \u001b[49m\u001b[38;5;124;43m'\u001b[39;49m\u001b[38;5;124;43mforward\u001b[39;49m\u001b[38;5;124;43m'\u001b[39;49m\u001b[43m)\u001b[49m\n",
      "Cell \u001b[1;32mIn[25], line 3\u001b[0m, in \u001b[0;36mmy_num_diff\u001b[1;34m(a, b, n, option, x_range, num_points)\u001b[0m\n\u001b[0;32m      1\u001b[0m \u001b[38;5;28;01mdef\u001b[39;00m \u001b[38;5;21mmy_num_diff\u001b[39m(a, b, n, option\u001b[38;5;241m=\u001b[39m\u001b[38;5;124m'\u001b[39m\u001b[38;5;124mcentral\u001b[39m\u001b[38;5;124m'\u001b[39m, x_range\u001b[38;5;241m=\u001b[39m(\u001b[38;5;241m-\u001b[39m\u001b[38;5;241m1\u001b[39m, \u001b[38;5;241m1\u001b[39m), num_points\u001b[38;5;241m=\u001b[39m\u001b[38;5;241m1000\u001b[39m):\n\u001b[0;32m      2\u001b[0m     \u001b[38;5;66;03m# Create an array of x values within the specified range\u001b[39;00m\n\u001b[1;32m----> 3\u001b[0m     x \u001b[38;5;241m=\u001b[39m \u001b[43mnp\u001b[49m\u001b[38;5;241;43m.\u001b[39;49m\u001b[43mlinspace\u001b[49m\u001b[43m(\u001b[49m\u001b[43mx_range\u001b[49m\u001b[43m[\u001b[49m\u001b[38;5;241;43m0\u001b[39;49m\u001b[43m]\u001b[49m\u001b[43m,\u001b[49m\u001b[43m \u001b[49m\u001b[43mx_range\u001b[49m\u001b[43m[\u001b[49m\u001b[38;5;241;43m1\u001b[39;49m\u001b[43m]\u001b[49m\u001b[43m,\u001b[49m\u001b[43m \u001b[49m\u001b[43mnum_points\u001b[49m\u001b[43m)\u001b[49m\n\u001b[0;32m      5\u001b[0m     \u001b[38;5;66;03m# Calculate the step size for differentiation\u001b[39;00m\n\u001b[0;32m      6\u001b[0m     h \u001b[38;5;241m=\u001b[39m (x_range[\u001b[38;5;241m1\u001b[39m] \u001b[38;5;241m-\u001b[39m x_range[\u001b[38;5;241m0\u001b[39m]) \u001b[38;5;241m/\u001b[39m (num_points \u001b[38;5;241m-\u001b[39m \u001b[38;5;241m1\u001b[39m)\n",
      "File \u001b[1;32m~\\AppData\\Local\\Programs\\Python\\Python312\\Lib\\site-packages\\numpy\\core\\function_base.py:129\u001b[0m, in \u001b[0;36mlinspace\u001b[1;34m(start, stop, num, endpoint, retstep, dtype, axis)\u001b[0m\n\u001b[0;32m    125\u001b[0m div \u001b[38;5;241m=\u001b[39m (num \u001b[38;5;241m-\u001b[39m \u001b[38;5;241m1\u001b[39m) \u001b[38;5;28;01mif\u001b[39;00m endpoint \u001b[38;5;28;01melse\u001b[39;00m num\n\u001b[0;32m    127\u001b[0m \u001b[38;5;66;03m# Convert float/complex array scalars to float, gh-3504\u001b[39;00m\n\u001b[0;32m    128\u001b[0m \u001b[38;5;66;03m# and make sure one can use variables that have an __array_interface__, gh-6634\u001b[39;00m\n\u001b[1;32m--> 129\u001b[0m start \u001b[38;5;241m=\u001b[39m \u001b[43masanyarray\u001b[49m\u001b[43m(\u001b[49m\u001b[43mstart\u001b[49m\u001b[43m)\u001b[49m\u001b[43m \u001b[49m\u001b[38;5;241;43m*\u001b[39;49m\u001b[43m \u001b[49m\u001b[38;5;241;43m1.0\u001b[39;49m\n\u001b[0;32m    130\u001b[0m stop  \u001b[38;5;241m=\u001b[39m asanyarray(stop)  \u001b[38;5;241m*\u001b[39m \u001b[38;5;241m1.0\u001b[39m\n\u001b[0;32m    132\u001b[0m dt \u001b[38;5;241m=\u001b[39m result_type(start, stop, \u001b[38;5;28mfloat\u001b[39m(num))\n",
      "\u001b[1;31mUFuncTypeError\u001b[0m: ufunc 'multiply' did not contain a loop with signature matching types (dtype('<U1'), dtype('float64')) -> None"
     ]
    }
   ],
   "source": [
    "[dyf, Xf] = my_num_diff(f, 0, 2*np.pi, 10, 'forward')"
   ]
  },
  {
   "cell_type": "code",
   "execution_count": 12,
   "id": "a1ee2225-5725-43c0-b056-4777aca2d479",
   "metadata": {},
   "outputs": [
    {
     "ename": "TypeError",
     "evalue": "cannot unpack non-iterable function object",
     "output_type": "error",
     "traceback": [
      "\u001b[1;31m---------------------------------------------------------------------------\u001b[0m",
      "\u001b[1;31mTypeError\u001b[0m                                 Traceback (most recent call last)",
      "Cell \u001b[1;32mIn[12], line 1\u001b[0m\n\u001b[1;32m----> 1\u001b[0m [dyb, Xb] \u001b[38;5;241m=\u001b[39m np\u001b[38;5;241m.\u001b[39mdiff(f, \u001b[38;5;241m0\u001b[39m, \u001b[38;5;241m2\u001b[39m\u001b[38;5;241m*\u001b[39mnp\u001b[38;5;241m.\u001b[39mpi, \u001b[38;5;241m10\u001b[39m, \u001b[38;5;124m'\u001b[39m\u001b[38;5;124mbackward\u001b[39m\u001b[38;5;124m'\u001b[39m)\n\u001b[0;32m      2\u001b[0m [dyc, Xc] \u001b[38;5;241m=\u001b[39m np\u001b[38;5;241m.\u001b[39mdiff(f, \u001b[38;5;241m0\u001b[39m, \u001b[38;5;241m2\u001b[39m\u001b[38;5;241m*\u001b[39mnp\u001b[38;5;241m.\u001b[39mpi, \u001b[38;5;241m10\u001b[39m, \u001b[38;5;124m'\u001b[39m\u001b[38;5;124mcentral\u001b[39m\u001b[38;5;124m'\u001b[39m)\n\u001b[0;32m      3\u001b[0m plt\u001b[38;5;241m.\u001b[39mfigure(figsize \u001b[38;5;241m=\u001b[39m (\u001b[38;5;241m12\u001b[39m, \u001b[38;5;241m8\u001b[39m))\n",
      "\u001b[1;31mTypeError\u001b[0m: cannot unpack non-iterable function object"
     ]
    }
   ],
   "source": [
    "[dyb, Xb] = np.diff(f, 0, 2*np.pi, 10, 'backward')\n",
    "[dyc, Xc] = np.diff(f, 0, 2*np.pi, 10, 'central')\n",
    "plt.figure(figsize = (12, 8))\n",
    "plt.plot(x, np.cos(x), label = 'analytic')\n",
    "plt.plot(Xf, dyf, label = 'forward')\n",
    "plt.plot(Xb, dyb, label = 'backward')\n",
    "plt.plot(Xc, dyc, label = 'central')\n",
    "plt.legend()\n",
    "plt.title('Analytic and Numerical Derivatives of Sine')\n",
    "plt.xlabel('x')\n",
    "plt.ylabel('y')\n",
    "plt.show()"
   ]
  },
  {
   "cell_type": "code",
   "execution_count": 13,
   "id": "53ef975f-3132-4f70-a2b3-a2df79603863",
   "metadata": {},
   "outputs": [
    {
     "name": "stdout",
     "output_type": "stream",
     "text": [
      "[2.         2.06340263 2.12654997 2.18918773 2.2510637  2.31192872\n",
      " 2.37153772 2.42965066 2.48603356 2.54045937 2.59270894 2.64257188\n",
      " 2.68984741 2.73434516 2.77588597 2.81430256 2.84944024 2.88115753\n",
      " 2.9093267  2.93383434 2.95458176 2.97148541 2.98447723 2.99350491\n",
      " 2.9985321  2.99953855 2.99652021 2.98948924 2.97847394 2.96351867\n",
      " 2.94468366 2.92204473 2.89569306 2.86573475 2.83229043 2.79549477\n",
      " 2.75549593 2.71245498 2.66654522 2.61795152 2.56686955 2.51350499\n",
      " 2.45807273 2.40079597 2.34190535 2.281638   2.22023659 2.15794837\n",
      " 2.09502414 2.03171728 1.96828272 1.90497586 1.84205163 1.77976341\n",
      " 1.718362   1.65809465 1.59920403 1.54192727 1.48649501 1.43313045\n",
      " 1.38204848 1.33345478 1.28754502 1.24450407 1.20450523 1.16770957\n",
      " 1.13426525 1.10430694 1.07795527 1.05531634 1.03648133 1.02152606\n",
      " 1.01051076 1.00347979 1.00046145 1.0014679  1.00649509 1.01552277\n",
      " 1.02851459 1.04541824 1.06616566 1.0906733  1.11884247 1.15055976\n",
      " 1.18569744 1.22411403 1.26565484 1.31015259 1.35742812 1.40729106\n",
      " 1.45954063 1.51396644 1.57034934 1.62846228 1.68807128 1.7489363\n",
      " 1.81081227 1.87345003 1.93659737 2.        ]\n",
      "[0.         0.06346652 0.12693304 0.19039955 0.25386607 0.31733259\n",
      " 0.38079911 0.44426563 0.50773215 0.57119866 0.63466518 0.6981317\n",
      " 0.76159822 0.82506474 0.88853126 0.95199777 1.01546429 1.07893081\n",
      " 1.14239733 1.20586385 1.26933037 1.33279688 1.3962634  1.45972992\n",
      " 1.52319644 1.58666296 1.65012947 1.71359599 1.77706251 1.84052903\n",
      " 1.90399555 1.96746207 2.03092858 2.0943951  2.15786162 2.22132814\n",
      " 2.28479466 2.34826118 2.41172769 2.47519421 2.53866073 2.60212725\n",
      " 2.66559377 2.72906028 2.7925268  2.85599332 2.91945984 2.98292636\n",
      " 3.04639288 3.10985939 3.17332591 3.23679243 3.30025895 3.36372547\n",
      " 3.42719199 3.4906585  3.55412502 3.61759154 3.68105806 3.74452458\n",
      " 3.8079911  3.87145761 3.93492413 3.99839065 4.06185717 4.12532369\n",
      " 4.1887902  4.25225672 4.31572324 4.37918976 4.44265628 4.5061228\n",
      " 4.56958931 4.63305583 4.69652235 4.75998887 4.82345539 4.88692191\n",
      " 4.95038842 5.01385494 5.07732146 5.14078798 5.2042545  5.26772102\n",
      " 5.33118753 5.39465405 5.45812057 5.52158709 5.58505361 5.64852012\n",
      " 5.71198664 5.77545316 5.83891968 5.9023862  5.96585272 6.02931923\n",
      " 6.09278575 6.15625227 6.21971879 6.28318531]\n"
     ]
    }
   ],
   "source": [
    "import numpy as np\n",
    "\n",
    "def diff(a, b, n, option='central', x_range=(-1, 1), num_points=1000):\n",
    "    # Create an array of x values within the specified range\n",
    "    x = np.linspace(x_range[0], x_range[1], num_points)\n",
    "    \n",
    "    # Calculate the step size for differentiation\n",
    "    h = (x_range[1] - x_range[0]) / (num_points - 1)\n",
    "    \n",
    "    # Initialize an array to store the differentiated values\n",
    "    dy = np.zeros_like(x)\n",
    "    \n",
    "    for i in range(num_points):\n",
    "        x_val = x[i]\n",
    "        \n",
    "        # Calculate the difference for the specified option\n",
    "        if option == 'forward':\n",
    "            if n == 0:\n",
    "                dy[i] = a(x_val) - b(x_val)\n",
    "            else:\n",
    "                dy[i] = (a(x_val + h) - b(x_val + h) - a(x_val) + b(x_val)) / (h ** n)\n",
    "        elif option == 'backward':\n",
    "            if n == 0:\n",
    "                dy[i] = a(x_val) - b(x_val)\n",
    "            else:\n",
    "                dy[i] = (a(x_val) - b(x_val) - a(x_val - h) + b(x_val - h)) / (h ** n)\n",
    "        elif option == 'central':\n",
    "            if n == 0:\n",
    "                dy[i] = a(x_val) - b(x_val)\n",
    "            else:\n",
    "                dy[i] = (a(x_val + h) - 2 * a(x_val) + a(x_val - h) - b(x_val + h) + 2 * b(x_val) - b(x_val - h)) / (h ** n)\n",
    "        else:\n",
    "            raise ValueError(\"Invalid option. Use 'forward', 'backward', or 'central'.\")\n",
    "\n",
    "    return [dy, x]\n",
    "\n",
    "# Example usage:\n",
    "def f(x):\n",
    "    return x ** 2\n",
    "\n",
    "def g(x):\n",
    "    return np.sin(x)\n",
    "\n",
    "result = diff(f, g, 2, option='central', x_range=(0, 2 * np.pi), num_points=100)\n",
    "dy, x = result\n",
    "print(dy)\n",
    "print(x)"
   ]
  },
  {
   "cell_type": "code",
   "execution_count": null,
   "id": "b89049c5-ae1a-4209-b8d4-5d854f9a0f4e",
   "metadata": {},
   "outputs": [],
   "source": []
  }
 ],
 "metadata": {
  "kernelspec": {
   "display_name": "Python 3 (ipykernel)",
   "language": "python",
   "name": "python3"
  },
  "language_info": {
   "codemirror_mode": {
    "name": "ipython",
    "version": 3
   },
   "file_extension": ".py",
   "mimetype": "text/x-python",
   "name": "python",
   "nbconvert_exporter": "python",
   "pygments_lexer": "ipython3",
   "version": "3.12.0"
  }
 },
 "nbformat": 4,
 "nbformat_minor": 5
}
